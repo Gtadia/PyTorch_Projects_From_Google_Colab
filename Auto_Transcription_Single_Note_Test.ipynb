{
  "nbformat": 4,
  "nbformat_minor": 0,
  "metadata": {
    "colab": {
      "provenance": []
    },
    "kernelspec": {
      "name": "python3",
      "display_name": "Python 3"
    },
    "language_info": {
      "name": "python"
    },
    "accelerator": "GPU",
    "gpuClass": "standard"
  },
  "cells": [
    {
      "cell_type": "code",
      "source": [
        "# !pip install wandb -qU"
      ],
      "metadata": {
        "id": "aCfub1N6Gr80"
      },
      "execution_count": 35,
      "outputs": []
    },
    {
      "cell_type": "code",
      "source": [
        "# Log in to your W&B account\n",
        "# import wandb\n",
        "# wandb.login()"
      ],
      "metadata": {
        "id": "c-Q8YvkCGxhF"
      },
      "execution_count": 36,
      "outputs": []
    },
    {
      "cell_type": "code",
      "source": [
        "class_names = [\"Whole\", \"Half\", \"Quarter\", \"Eight\", \"Sixteenth\"]"
      ],
      "metadata": {
        "id": "OBbANNBvSRhp"
      },
      "execution_count": 37,
      "outputs": []
    },
    {
      "cell_type": "code",
      "source": [
        "import torch\n",
        "from torch import nn\n",
        "\n",
        "import torchvision\n",
        "from torchvision import datasets\n",
        "from torchvision.transforms import ToTensor\n",
        "from sklearn.model_selection import train_test_split\n",
        "import numpy as np"
      ],
      "metadata": {
        "id": "o0RY4972biGP"
      },
      "execution_count": 38,
      "outputs": []
    },
    {
      "cell_type": "code",
      "source": [
        "device = \"cuda\" if torch.cuda.is_available() else \"cpu\"\n",
        "device"
      ],
      "metadata": {
        "colab": {
          "base_uri": "https://localhost:8080/",
          "height": 35
        },
        "id": "WjWdcPO-bYR6",
        "outputId": "57426adc-dbcb-4711-87db-9e10b93dd38b"
      },
      "execution_count": 39,
      "outputs": [
        {
          "output_type": "execute_result",
          "data": {
            "text/plain": [
              "'cuda'"
            ],
            "application/vnd.google.colaboratory.intrinsic+json": {
              "type": "string"
            }
          },
          "metadata": {},
          "execution_count": 39
        }
      ]
    },
    {
      "cell_type": "code",
      "source": [
        "from torch import nn\n",
        "class MyModel(nn.Module):\n",
        "    def __init__(self, input_shape: int, hidden_units: int, output_shape: int):\n",
        "        super().__init__()\n",
        "        self.layer_stack = nn.Sequential(\n",
        "            nn.Flatten(), # neural networks like their inputs in vector form\n",
        "            nn.Linear(in_features=input_shape, out_features=hidden_units), # in_features = number of features in a data sample (784 pixels)\n",
        "            nn.Linear(in_features=hidden_units, out_features=hidden_units*2),\n",
        "            nn.Linear(in_features=hidden_units*2, out_features=hidden_units),\n",
        "            nn.Linear(in_features=hidden_units, out_features=output_shape)\n",
        "        )\n",
        "\n",
        "    def forward(self, x):\n",
        "        return self.layer_stack(x)"
      ],
      "metadata": {
        "id": "DOPKPqT3USyw"
      },
      "execution_count": 40,
      "outputs": []
    },
    {
      "cell_type": "code",
      "source": [
        "model = MyModel(input_shape=1 * 64 * 64,\n",
        "                              hidden_units=32,\n",
        "                              output_shape=len(class_names)).to(device)\n",
        "model.to(device)"
      ],
      "metadata": {
        "id": "aiupzKDzO1UU",
        "colab": {
          "base_uri": "https://localhost:8080/"
        },
        "outputId": "43d0335f-2513-478a-978b-f7884564544c"
      },
      "execution_count": 41,
      "outputs": [
        {
          "output_type": "execute_result",
          "data": {
            "text/plain": [
              "MyModel(\n",
              "  (layer_stack): Sequential(\n",
              "    (0): Flatten(start_dim=1, end_dim=-1)\n",
              "    (1): Linear(in_features=4096, out_features=32, bias=True)\n",
              "    (2): Linear(in_features=32, out_features=64, bias=True)\n",
              "    (3): Linear(in_features=64, out_features=32, bias=True)\n",
              "    (4): Linear(in_features=32, out_features=5, bias=True)\n",
              "  )\n",
              ")"
            ]
          },
          "metadata": {},
          "execution_count": 41
        }
      ]
    },
    {
      "cell_type": "code",
      "source": [
        "import numpy as np\n",
        "import matplotlib.pyplot as plt\n",
        "\n",
        "file_path = \"/content/drive/MyDrive/Colab Notebooks/CSV_Data/data1.csv\"\n",
        "\n",
        "images = np.loadtxt(file_path, dtype=int, delimiter=',', usecols=range(1, 4097), skiprows=1)\n",
        "labels = np.loadtxt(file_path, dtype=str, delimiter=\",\", usecols=0, skiprows=1)"
      ],
      "metadata": {
        "id": "yhaquCAcR7od",
        "colab": {
          "base_uri": "https://localhost:8080/"
        },
        "outputId": "e98baba6-3eef-40eb-880b-46b4989c34de"
      },
      "execution_count": 42,
      "outputs": [
        {
          "output_type": "stream",
          "name": "stderr",
          "text": [
            "/tmp/ipython-input-613835000.py:7: UserWarning: Input line 2 contained no data and will not be counted towards `max_rows=50000`.  This differs from the behaviour in NumPy <=1.22 which counted lines rather than rows.  If desired, the previous behaviour can be achieved by using `itertools.islice`.\n",
            "Please see the 1.23 release notes for an example on how to do this.  If you wish to ignore this warning, use `warnings.filterwarnings`.  This warning is expected to be removed in the future and is given only once per `loadtxt` call.\n",
            "  labels = np.loadtxt(file_path, dtype=str, delimiter=\",\", usecols=0, skiprows=1)\n"
          ]
        }
      ]
    },
    {
      "cell_type": "code",
      "source": [
        "classes = np.array([])\n",
        "for c in labels:\n",
        "  classes = np.append(classes, (np.int32(class_names.index(c))))"
      ],
      "metadata": {
        "id": "Wi3viJgyTPai"
      },
      "execution_count": 43,
      "outputs": []
    },
    {
      "cell_type": "code",
      "source": [
        "images = images.reshape(5000, 1, 64, 64)"
      ],
      "metadata": {
        "id": "Sd97tqJ0UhJs"
      },
      "execution_count": 44,
      "outputs": []
    },
    {
      "cell_type": "code",
      "source": [
        "import random as r\n",
        "rand = r.randint(0, 4096)\n",
        "img_as_array = images[rand]\n",
        "img_as_array = img_as_array.reshape(64, -1)\n",
        "\n",
        "img_as_array\n",
        "# Plot the image with matplotlib\n",
        "plt.figure(figsize=(10, 10))\n",
        "plt.imshow(img_as_array, cmap=\"gray\")\n",
        "plt.title(f\"Image class: {labels[rand]} | Image shape: {img_as_array.shape} -> [height, width, color_channels]\")\n",
        "plt.axis(False);"
      ],
      "metadata": {
        "colab": {
          "base_uri": "https://localhost:8080/",
          "height": 829
        },
        "id": "6x5vSaKDSxTL",
        "outputId": "75e0d303-dda8-4da7-a24f-3dedef2a9bed"
      },
      "execution_count": 45,
      "outputs": [
        {
          "output_type": "display_data",
          "data": {
            "text/plain": [
              "<Figure size 1000x1000 with 1 Axes>"
            ],
            "image/png": "[encoded data removed]"
          },
          "metadata": {}
        }
      ]
    },
    {
      "cell_type": "code",
      "source": [
        "images = torch.from_numpy(images).to(torch.float32)\n",
        "classes = torch.from_numpy(classes).type(torch.LongTensor)"
      ],
      "metadata": {
        "id": "IOqGj5JHUqez"
      },
      "execution_count": 46,
      "outputs": []
    },
    {
      "cell_type": "code",
      "source": [
        "train_images, test_images, train_labels, test_labels = train_test_split(images,\n",
        "                                                                        classes,\n",
        "                                                                        test_size=0.2)"
      ],
      "metadata": {
        "id": "kfiJcVGsS0P5"
      },
      "execution_count": 47,
      "outputs": []
    },
    {
      "cell_type": "code",
      "source": [
        "len(train_images), len(test_images), len(train_labels), len(test_labels)"
      ],
      "metadata": {
        "colab": {
          "base_uri": "https://localhost:8080/"
        },
        "id": "egbrJ9oHIMc6",
        "outputId": "bb1670bf-b1c3-41fa-b182-c2db72dd5ba7"
      },
      "execution_count": 48,
      "outputs": [
        {
          "output_type": "execute_result",
          "data": {
            "text/plain": [
              "(4000, 1000, 4000, 1000)"
            ]
          },
          "metadata": {},
          "execution_count": 48
        }
      ]
    },
    {
      "cell_type": "code",
      "source": [
        "# Download Helper Function (if it doesn't already exist)\n",
        "import os\n",
        "import requests\n",
        "from pathlib import PurePath\n",
        "from pathlib import Path\n",
        "\n",
        "# Download helper functions from Learn PyTorch repo (if not already downloaded)\n",
        "if Path(\"helper_functions.py\").is_file():\n",
        "  print(\"helper_functions.py already exists, skipping download\")\n",
        "else:\n",
        "  print(\"Downloading helper_functions.py\")\n",
        "  request = requests.get(\"https://raw.githubusercontent.com/mrdbourke/pytorch-deep-learning/main/helper_functions.py\")\n",
        "  with open(\"helper_functions.py\", \"wb\") as f:\n",
        "    f.write(request.content)\n",
        "\n",
        "from helper_functions import plot_predictions, plot_decision_boundary"
      ],
      "metadata": {
        "colab": {
          "base_uri": "https://localhost:8080/"
        },
        "id": "f5xmJM5oUzbC",
        "outputId": "63d9fa02-d300-4f34-ad4d-1e96b6b47c9c"
      },
      "execution_count": 49,
      "outputs": [
        {
          "output_type": "stream",
          "name": "stdout",
          "text": [
            "helper_functions.py already exists, skipping download\n"
          ]
        }
      ]
    },
    {
      "cell_type": "code",
      "source": [
        "from helper_functions import accuracy_fn\n",
        "loss_fn = nn.CrossEntropyLoss()\n",
        "optimizer = torch.optim.SGD(params=model.parameters(),\n",
        "                            lr=0.1)"
      ],
      "metadata": {
        "id": "4yw5VBH_U8i7"
      },
      "execution_count": 50,
      "outputs": []
    },
    {
      "cell_type": "code",
      "source": [
        "train_images.shape"
      ],
      "metadata": {
        "colab": {
          "base_uri": "https://localhost:8080/"
        },
        "id": "vFm5BIr5FwTM",
        "outputId": "53435d8d-f9b9-4797-a7ce-646399b9e8f8"
      },
      "execution_count": 51,
      "outputs": [
        {
          "output_type": "execute_result",
          "data": {
            "text/plain": [
              "torch.Size([4000, 1, 64, 64])"
            ]
          },
          "metadata": {},
          "execution_count": 51
        }
      ]
    },
    {
      "cell_type": "code",
      "source": [
        "train_labels.shape"
      ],
      "metadata": {
        "colab": {
          "base_uri": "https://localhost:8080/"
        },
        "id": "B6gX9PmFFz01",
        "outputId": "bc89f017-72df-4cf1-cf3f-1757abffa036"
      },
      "execution_count": 52,
      "outputs": [
        {
          "output_type": "execute_result",
          "data": {
            "text/plain": [
              "torch.Size([4000])"
            ]
          },
          "metadata": {},
          "execution_count": 52
        }
      ]
    },
    {
      "cell_type": "code",
      "source": [
        "from torch.utils.data import Dataset\n",
        "\n",
        "class DatasetCustom(Dataset):\n",
        "  def __init__(self, train, classes, transform=None):\n",
        "    self.train = train\n",
        "    self.transform = transform\n",
        "    self.classes = classes\n",
        "\n",
        "  def load_image(self, index: int):\n",
        "    return self.train[index]\n",
        "\n",
        "  def __len__(self):\n",
        "    return len(self.train)\n",
        "\n",
        "  def __getitem__(self, index: int):\n",
        "    img = self.load_image(index)\n",
        "\n",
        "    if self.transform:\n",
        "      return (self.transform(img), self.classes[index])\n",
        "    else:\n",
        "      return img, self.classes[index]"
      ],
      "metadata": {
        "id": "3P0wr0UDMfRn"
      },
      "execution_count": 53,
      "outputs": []
    },
    {
      "cell_type": "code",
      "source": [
        "from torchvision import transforms\n",
        "data_transform = transforms.Compose([\n",
        "    transforms.ToPILImage(),\n",
        "    # Resize the images to 64x64\n",
        "    transforms.Resize(size=(64, 64)),\n",
        "    # Flip the images randomly on the horizontal\n",
        "    # transforms.RandomHorizontalFlip(p=0.5), # p = probability of flip, 0.5 = 50% chance\n",
        "    # Turn the image into a torch.Tensor\n",
        "    transforms.ToTensor() # this also converts all pixel values from 0 to 255 to be between 0.0 and 1.0\n",
        "])"
      ],
      "metadata": {
        "id": "cCI8bLrGHv6p"
      },
      "execution_count": 54,
      "outputs": []
    },
    {
      "cell_type": "code",
      "source": [
        "train_data_custom = DatasetCustom(train=train_images,\n",
        "                                  classes=train_labels,\n",
        "                                  transform=data_transform)\n",
        "test_data_custom = DatasetCustom(train=test_images,\n",
        "                                 classes=test_labels,\n",
        "                                 transform=data_transform)"
      ],
      "metadata": {
        "id": "AMqr7AWQHU2o"
      },
      "execution_count": 55,
      "outputs": []
    },
    {
      "cell_type": "code",
      "source": [
        "len(train_data_custom), len(test_data_custom)"
      ],
      "metadata": {
        "colab": {
          "base_uri": "https://localhost:8080/"
        },
        "id": "gdNegod5KQet",
        "outputId": "6cd5ef41-02fc-48f9-e06d-0277dc3d9fa2"
      },
      "execution_count": 56,
      "outputs": [
        {
          "output_type": "execute_result",
          "data": {
            "text/plain": [
              "(4000, 1000)"
            ]
          },
          "metadata": {},
          "execution_count": 56
        }
      ]
    },
    {
      "cell_type": "code",
      "source": [
        "print(len(test_images))"
      ],
      "metadata": {
        "colab": {
          "base_uri": "https://localhost:8080/"
        },
        "id": "TFZ2Xqq4byOU",
        "outputId": "f167db58-6477-4e2c-d250-9c795cf683e6"
      },
      "execution_count": 57,
      "outputs": [
        {
          "output_type": "stream",
          "name": "stdout",
          "text": [
            "1000\n"
          ]
        }
      ]
    },
    {
      "cell_type": "code",
      "source": [
        "# custom dataloader\n",
        "# Since our images are already numpy arrays (converted to tensors), we don't need a dataset function\n",
        "from torch.utils.data import DataLoader\n",
        "\n",
        "# We do, however, need to transform our current image data into a 2D array/tensor instead of a 1D array/tensor\n",
        "# and combine it with the labels\n",
        "\n",
        "train_dataloader_custom = DataLoader(dataset=train_data_custom,\n",
        "                                     batch_size=32,\n",
        "                                     num_workers=0,\n",
        "                                     shuffle=True)\n",
        "\n",
        "test_dataloader_custom = DataLoader(dataset=test_data_custom,\n",
        "                                    batch_size=1,\n",
        "                                    num_workers=0,\n",
        "                                    shuffle=False)"
      ],
      "metadata": {
        "id": "LjeHYb3tRjBb"
      },
      "execution_count": 58,
      "outputs": []
    },
    {
      "cell_type": "code",
      "source": [
        "img_custom, label_custom = next(iter(train_dataloader_custom))\n",
        "\n",
        "print(f\"Image shape: {img_custom.shape} -> [batch_size, color_channels, height, width]\")\n",
        "print(f\"Label shape: {label_custom.shape}\")"
      ],
      "metadata": {
        "colab": {
          "base_uri": "https://localhost:8080/"
        },
        "id": "yFlILHp7YdiJ",
        "outputId": "cda20acd-6b65-4f64-9ae3-bd209bcf071b"
      },
      "execution_count": 59,
      "outputs": [
        {
          "output_type": "stream",
          "name": "stdout",
          "text": [
            "Image shape: torch.Size([32, 1, 64, 64]) -> [batch_size, color_channels, height, width]\n",
            "Label shape: torch.Size([32])\n"
          ]
        }
      ]
    },
    {
      "cell_type": "code",
      "source": [
        "import random\n",
        "from typing import List\n",
        "# 1. Take in a Dataset as well as a list of class names\n",
        "def display_random_images(dataset: torch.utils.data.dataset.Dataset,\n",
        "                          classes: List[str] = None,\n",
        "                          n: int = 10,\n",
        "                          display_shape: bool = True,\n",
        "                          seed: int = None):\n",
        "\n",
        "    # 2. Adjust display if n too high\n",
        "    if n > 10:\n",
        "        n = 10\n",
        "        display_shape = False\n",
        "        print(f\"For display purposes, n shouldn't be larger than 10, setting to 10 and removing shape display.\")\n",
        "\n",
        "    # 3. Set random seed\n",
        "    if seed:\n",
        "        random.seed(seed)\n",
        "\n",
        "    # 4. Get random sample indexes\n",
        "    random_samples_idx = random.sample(range(len(dataset)), k=n)\n",
        "\n",
        "    # 5. Setup plot\n",
        "    plt.figure(figsize=(16, 8))\n",
        "\n",
        "    # 6. Loop through samples and display random samples\n",
        "    for i, targ_sample in enumerate(random_samples_idx):\n",
        "        targ_image, targ_label = dataset[targ_sample][0], dataset[targ_sample][1]\n",
        "\n",
        "        # 7. Adjust image tensor shape for plotting: [color_channels, height, width] -> [color_channels, height, width]\n",
        "        targ_image_adjust = targ_image.permute(1, 2, 0)[:, :, 0]\n",
        "\n",
        "        # Plot adjusted samples\n",
        "        plt.subplot(1, n, i+1)\n",
        "        print(targ_image)\n",
        "\n",
        "        plt.imshow(targ_image_adjust, cmap=\"gray\")\n",
        "        plt.axis(\"off\")\n",
        "        if classes:\n",
        "            title = f\"class: {classes[targ_label]}\"\n",
        "            if display_shape:\n",
        "                title = title + f\"\\nshape: {targ_image_adjust.shape}\"\n",
        "        plt.title(title)"
      ],
      "metadata": {
        "id": "W3oGR0UoMe2V"
      },
      "execution_count": 60,
      "outputs": []
    },
    {
      "cell_type": "code",
      "source": [
        "display_random_images(train_data_custom,\n",
        "                      n=5,\n",
        "                      classes=class_names,\n",
        "                      seed=None)"
      ],
      "metadata": {
        "colab": {
          "base_uri": "https://localhost:8080/",
          "height": 881
        },
        "id": "ZpcmjzPvNuEL",
        "outputId": "9341e422-c167-4771-861b-5b8421d7f89f"
      },
      "execution_count": 61,
      "outputs": [
        {
          "output_type": "stream",
          "name": "stdout",
          "text": [
            "tensor([[[0.0039, 0.0039, 0.0039,  ..., 0.0039, 0.0039, 0.0039],\n",
            "         [0.0039, 0.0039, 0.0039,  ..., 0.0039, 0.0039, 0.0039],\n",
            "         [0.0039, 0.0039, 0.0039,  ..., 0.0039, 0.0039, 0.0039],\n",
            "         ...,\n",
            "         [0.0039, 0.0039, 0.0039,  ..., 0.0039, 0.0039, 0.0039],\n",
            "         [0.0039, 0.0039, 0.0039,  ..., 0.0039, 0.0039, 0.0039],\n",
            "         [0.0039, 0.0039, 0.0039,  ..., 0.0039, 0.0039, 0.0039]]])\n",
            "tensor([[[0.0039, 0.0039, 0.0039,  ..., 0.0039, 0.0039, 0.0039],\n",
            "         [0.0039, 0.0039, 0.0039,  ..., 0.0039, 0.0039, 0.0039],\n",
            "         [0.0039, 0.0039, 0.0039,  ..., 0.0039, 0.0039, 0.0039],\n",
            "         ...,\n",
            "         [0.0039, 0.0039, 0.0039,  ..., 0.0039, 0.0039, 0.0039],\n",
            "         [0.0039, 0.0039, 0.0039,  ..., 0.0039, 0.0039, 0.0039],\n",
            "         [0.0039, 0.0039, 0.0039,  ..., 0.0039, 0.0039, 0.0039]]])\n",
            "tensor([[[0.0078, 0.0078, 0.0078,  ..., 0.0078, 0.0078, 0.0078],\n",
            "         [0.0078, 0.0078, 0.0078,  ..., 0.0078, 0.0078, 0.0078],\n",
            "         [0.0078, 0.0078, 0.0078,  ..., 0.0078, 0.0078, 0.0078],\n",
            "         ...,\n",
            "         [0.0078, 0.0078, 0.0078,  ..., 0.0078, 0.0078, 0.0078],\n",
            "         [0.0078, 0.0078, 0.0078,  ..., 0.0078, 0.0078, 0.0078],\n",
            "         [0.0078, 0.0078, 0.0078,  ..., 0.0078, 0.0078, 0.0078]]])\n",
            "tensor([[[0.0078, 0.0078, 0.0078,  ..., 0.0078, 0.0078, 0.0078],\n",
            "         [0.0078, 0.0078, 0.0078,  ..., 0.0078, 0.0078, 0.0078],\n",
            "         [0.0078, 0.0078, 0.0078,  ..., 0.0078, 0.0078, 0.0078],\n",
            "         ...,\n",
            "         [0.0078, 0.0078, 0.0078,  ..., 0.0078, 0.0078, 0.0078],\n",
            "         [0.0078, 0.0078, 0.0078,  ..., 0.0078, 0.0078, 0.0078],\n",
            "         [0.0078, 0.0078, 0.0078,  ..., 0.0078, 0.0078, 0.0078]]])\n",
            "tensor([[[0.0039, 0.0039, 0.0039,  ..., 0.0039, 0.0039, 0.0039],\n",
            "         [0.0039, 0.0039, 0.0039,  ..., 0.0039, 0.0039, 0.0039],\n",
            "         [0.0039, 0.0039, 0.0039,  ..., 0.0039, 0.0039, 0.0039],\n",
            "         ...,\n",
            "         [0.0039, 0.0039, 0.0039,  ..., 0.0039, 0.0039, 0.0039],\n",
            "         [0.0039, 0.0039, 0.0039,  ..., 0.0039, 0.0039, 0.0039],\n",
            "         [0.0039, 0.0039, 0.0039,  ..., 0.0039, 0.0039, 0.0039]]])\n"
          ]
        },
        {
          "output_type": "display_data",
          "data": {
            "text/plain": [
              "<Figure size 1600x800 with 5 Axes>"
            ],
            "image/png": "[encoded data removed]"
          },
          "metadata": {}
        }
      ]
    },
    {
      "cell_type": "code",
      "source": [
        "# class Identity(nn.Module):\n",
        "#   def __init__(self):\n",
        "#     super(Identity, self).__init__()\n",
        "\n",
        "#   def forward(self, x):\n",
        "#     return x\n",
        "\n",
        "# model = torchvision.models.vgg16(pretrained=True)\n",
        "# model.avgpool = Identity()\n",
        "# model.features[0] = nn.Conv2d(1, 64, kernel_size=(3, 3), stride=(1, 1), padding=(1, 1))\n",
        "# model.classifier = nn.Linear(in_features=2048, out_features=5)\n",
        "# model.to(device)\n",
        "# print(model)"
      ],
      "metadata": {
        "id": "0IGH8M12uAQT"
      },
      "execution_count": 62,
      "outputs": []
    },
    {
      "cell_type": "code",
      "source": [
        "# 1. Get a batch of images and labels from the DataLoader\n",
        "img_batch, label_batch = next(iter(train_dataloader_custom))\n",
        "\n",
        "# 2. Get a single image from the batch and unsqueeze the image so its shape fits the model\n",
        "img_single, label_single = img_batch[0].unsqueeze(dim=0), label_batch[0]\n",
        "print(f\"Single image shape: {img_single.shape}\\n\")\n",
        "\n",
        "# 3. Perform a forward pass on a single image\n",
        "model.eval()\n",
        "with torch.inference_mode():\n",
        "    pred = model(img_single.to(device))\n",
        "\n",
        "# 4. Print out what's happening and convert model logits -> pred probs -> pred label\n",
        "print(f\"Output logits:\\n{pred}\\n\")\n",
        "print(f\"Output prediction probabilities:\\n{torch.softmax(pred, dim=1)}\\n\")\n",
        "print(f\"Output prediction label:\\n{torch.argmax(torch.softmax(pred, dim=1), dim=1)}\\n\")\n",
        "print(f\"Actual label:\\n{label_single}\")"
      ],
      "metadata": {
        "colab": {
          "base_uri": "https://localhost:8080/"
        },
        "id": "E0nmqad6tYI-",
        "outputId": "c2b20ae6-8d71-41ac-c377-1d9134c0429a"
      },
      "execution_count": 63,
      "outputs": [
        {
          "output_type": "stream",
          "name": "stdout",
          "text": [
            "Single image shape: torch.Size([1, 1, 64, 64])\n",
            "\n",
            "Output logits:\n",
            "tensor([[ 0.0817,  0.0082, -0.1789, -0.0554,  0.0598]], device='cuda:0')\n",
            "\n",
            "Output prediction probabilities:\n",
            "tensor([[0.2198, 0.2042, 0.1694, 0.1916, 0.2150]], device='cuda:0')\n",
            "\n",
            "Output prediction label:\n",
            "tensor([0], device='cuda:0')\n",
            "\n",
            "Actual label:\n",
            "3\n"
          ]
        }
      ]
    },
    {
      "cell_type": "code",
      "source": [
        "# from tqdm.auto import tqdm\n",
        "\n",
        "total_runs = 1\n",
        "for run in range(total_runs):\n",
        "  # Start a new run to track this script\n",
        "  # wandb.init(\n",
        "  #     # Set the project where this run will be logged\n",
        "  #     project=\"basic-intro\",\n",
        "  #     # We pass a run name (otherwise it’ll be randomly assigned, like sunshine-lollypop-10)\n",
        "  #     name=f\"experiment_{run}\",\n",
        "  #     # Track hyperparameters and run metadata\n",
        "  #     config={\n",
        "  #     \"learning_rate\": 0.1,\n",
        "  #     \"architecture\": \"Flattened Linear\",\n",
        "  #     \"dataset\": \"5 Musical Notes\",\n",
        "  #     \"epochs\": 10,\n",
        "  #     })\n",
        "  epochs = 15\n",
        "  for epoch in (range(epochs)):\n",
        "    train_loss, train_acc = 0, 0\n",
        "    for batch, (X, y) in enumerate(train_dataloader_custom):\n",
        "      # Training mode\n",
        "      model.train()\n",
        "\n",
        "      # Send to device\n",
        "      X, y = X.to(device), y.to(device)\n",
        "\n",
        "      # 1. Forward pass\n",
        "      logits = model(X)\n",
        "      pred = torch.softmax(logits, dim=1).argmax(dim=1)\n",
        "\n",
        "      # 2. Calculate the loss/accuracy\n",
        "      loss = loss_fn(logits, y)\n",
        "      train_loss += loss\n",
        "      train_acc += accuracy_fn(y_true=y,\n",
        "                              y_pred=pred)\n",
        "\n",
        "      # 3. Optimizer zero grad\n",
        "      optimizer.zero_grad()\n",
        "\n",
        "      # 4. Loss backward\n",
        "      loss.backward()\n",
        "\n",
        "      # 5. Step the optimizer\n",
        "      optimizer.step()\n",
        "\n",
        "      # Calculate loss and accuracy per epoch and print out what's happening\n",
        "    train_acc /= len(train_dataloader_custom)\n",
        "    train_loss /= len(train_dataloader_custom)\n",
        "\n",
        "    metrics = {\"train/train_loss\": train_loss,\n",
        "                \"train/example_acc\": train_acc}\n",
        "    print(f\"Train loss: {train_loss:.5f} | Train accuracy: {train_acc:.2f}%\")\n",
        "\n",
        "\n",
        "    model.eval() # put model in eval mode\n",
        "    test_loss, test_acc = 0, 0\n",
        "    with torch.inference_mode():\n",
        "      for batch, (X, y) in enumerate(test_dataloader_custom):\n",
        "\n",
        "        # Send to device\n",
        "        X, y = X.to(device), y.to(device)\n",
        "\n",
        "        # 1. Forward pass\n",
        "        test_logits = model(X)\n",
        "        test_preds = torch.softmax(test_logits, dim=1).argmax(dim=1)\n",
        "\n",
        "        # 2. Calculate loss and accuracy\n",
        "        test_loss += loss_fn(test_logits, y)\n",
        "        test_acc += accuracy_fn(y_true=y,\n",
        "            y_pred=test_preds # Go from logits -> pred labels\n",
        "          )\n",
        "\n",
        "      # # Adjust metrics and print out\n",
        "      # test_loss /= len(test_dataloader_custom)\n",
        "      # test_acc /= len(test_dataloader_custom)\n",
        "      # log train and validation metrics to wandb\n",
        "      # val_metrics = {\"test/test_loss\": test_loss,\n",
        "      #                 \"test/test_accuracy\": test_acc}\n",
        "      # wandb.log({**metrics, **val_metrics})\n",
        "\n",
        "      print(f\"Test loss: {test_loss:.5f} | Test accuracy: {test_acc:.2f}%\\n\")\n",
        "  # Mark the run as finished\n",
        "  # wandb.finish()"
      ],
      "metadata": {
        "id": "HzVhQ_YrT7Eg",
        "colab": {
          "base_uri": "https://localhost:8080/"
        },
        "outputId": "2fedc92e-f3ca-498d-810e-0e1354e9d174"
      },
      "execution_count": 64,
      "outputs": [
        {
          "output_type": "stream",
          "name": "stdout",
          "text": [
            "Train loss: 1.03454 | Train accuracy: 55.98%\n",
            "Test loss: 686.56543 | Test accuracy: 66200.00%\n",
            "\n",
            "Train loss: 0.57587 | Train accuracy: 74.03%\n",
            "Test loss: 557.05914 | Test accuracy: 74600.00%\n",
            "\n",
            "Train loss: 0.48856 | Train accuracy: 78.10%\n",
            "Test loss: 502.35220 | Test accuracy: 77500.00%\n",
            "\n",
            "Train loss: 0.42368 | Train accuracy: 81.33%\n",
            "Test loss: 476.98343 | Test accuracy: 77800.00%\n",
            "\n",
            "Train loss: 0.36217 | Train accuracy: 83.72%\n",
            "Test loss: 480.81992 | Test accuracy: 80800.00%\n",
            "\n",
            "Train loss: 0.30497 | Train accuracy: 86.20%\n",
            "Test loss: 589.58368 | Test accuracy: 76400.00%\n",
            "\n",
            "Train loss: 0.35657 | Train accuracy: 85.17%\n",
            "Test loss: 550.22217 | Test accuracy: 76900.00%\n",
            "\n",
            "Train loss: 0.24370 | Train accuracy: 89.30%\n",
            "Test loss: 675.89532 | Test accuracy: 76200.00%\n",
            "\n",
            "Train loss: 0.25757 | Train accuracy: 88.25%\n",
            "Test loss: 570.74023 | Test accuracy: 77600.00%\n",
            "\n",
            "Train loss: 0.24452 | Train accuracy: 89.42%\n",
            "Test loss: 699.05444 | Test accuracy: 77800.00%\n",
            "\n",
            "Train loss: 0.23917 | Train accuracy: 89.65%\n",
            "Test loss: 588.77966 | Test accuracy: 79100.00%\n",
            "\n",
            "Train loss: 0.24517 | Train accuracy: 89.45%\n",
            "Test loss: 805.23627 | Test accuracy: 75500.00%\n",
            "\n",
            "Train loss: 0.21592 | Train accuracy: 90.38%\n",
            "Test loss: 687.49329 | Test accuracy: 78300.00%\n",
            "\n",
            "Train loss: 0.17354 | Train accuracy: 92.70%\n",
            "Test loss: 666.31482 | Test accuracy: 79000.00%\n",
            "\n",
            "Train loss: 0.18262 | Train accuracy: 92.05%\n",
            "Test loss: 664.52124 | Test accuracy: 79300.00%\n",
            "\n"
          ]
        }
      ]
    },
    {
      "cell_type": "code",
      "source": [
        "prediction_transformation = transforms.Compose([\n",
        "    transforms.ToPILImage(),\n",
        "    transforms.Resize(size=(64, 64)),\n",
        "    transforms.ToTensor() # this also converts all pixel values from 0 to 255 to be between 0.0 and 1.0\n",
        "])"
      ],
      "metadata": {
        "id": "TDHksNMt1m6G"
      },
      "execution_count": 65,
      "outputs": []
    },
    {
      "cell_type": "code",
      "source": [
        "test_images.shape"
      ],
      "metadata": {
        "colab": {
          "base_uri": "https://localhost:8080/"
        },
        "id": "F28OkpRi2pCa",
        "outputId": "c61ab66f-a622-4fb7-fdcb-12e7970d9b1d"
      },
      "execution_count": 66,
      "outputs": [
        {
          "output_type": "execute_result",
          "data": {
            "text/plain": [
              "torch.Size([1000, 1, 64, 64])"
            ]
          },
          "metadata": {},
          "execution_count": 66
        }
      ]
    },
    {
      "cell_type": "code",
      "source": [
        "# predictions\n",
        "pred_probs = []\n",
        "model.eval()\n",
        "with torch.inference_mode():\n",
        "  for i in test_images:\n",
        "    pred_images = prediction_transformation(i).to(device)\n",
        "    logits = model(pred_images)\n",
        "    pred = torch.softmax(logits, dim=1).argmax(dim=1)\n",
        "    pred_probs.append(pred)\n",
        "\n",
        "pred = torch.stack(pred_probs)\n",
        "pass"
      ],
      "metadata": {
        "id": "q-aBTWG3ULn-"
      },
      "execution_count": 67,
      "outputs": []
    },
    {
      "cell_type": "code",
      "source": [
        "rand = r.randint(0, len(test_labels))\n",
        "img_label = test_labels[rand].numpy()\n",
        "img_as_array = test_images[rand].to(\"cpu\").numpy()\n",
        "img_as_array = img_as_array.reshape(64, -1)\n",
        "\n",
        "img_as_array\n",
        "# Plot the image with matplotlib\n",
        "plt.figure(figsize=(10, 10))\n",
        "plt.imshow(img_as_array, cmap=\"gray\")\n",
        "plt.title(f\"Predicted Class: {class_names[pred[rand]]} | True Class: {class_names[img_label]}\")\n",
        "plt.axis(False);"
      ],
      "metadata": {
        "id": "9fvrZSQBRcDy",
        "colab": {
          "base_uri": "https://localhost:8080/",
          "height": 829
        },
        "outputId": "f7b49e11-2e34-4382-dbd2-bda9526e9285"
      },
      "execution_count": 68,
      "outputs": [
        {
          "output_type": "display_data",
          "data": {
            "text/plain": [
              "<Figure size 1000x1000 with 1 Axes>"
            ],
            "image/png": "[encoded data removed]"
          },
          "metadata": {}
        }
      ]
    }
  ]
}